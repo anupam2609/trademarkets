{
 "cells": [
  {
   "cell_type": "code",
   "execution_count": 74,
   "metadata": {},
   "outputs": [],
   "source": [
    "from bs4 import BeautifulSoup\n",
    "import pandas as pd\n",
    "import requests"
   ]
  },
  {
   "cell_type": "code",
   "execution_count": 75,
   "metadata": {},
   "outputs": [],
   "source": [
    "#The section is for US stock market Trend, Top Gainers and Top Losers\n",
    "urlSectorTrend=\"https://simplywall.st/markets/us#\"\n",
    "htmlcontentSectorTrend=requests.get(urlSectorTrend).text\n",
    "soupSectorTrend=BeautifulSoup(htmlcontentSectorTrend, 'lxml')\n",
    "\n",
    "urlUSTopGainers=\"https://simplywall.st/stocks/us/top-gainers\"\n",
    "htmlcontentUSTopGainers=requests.get(urlUSTopGainers).text\n",
    "soupUSTopGainers=BeautifulSoup(htmlcontentUSTopGainers, 'lxml')\n",
    "\n",
    "\n",
    "urlUSTopLosers=\"https://simplywall.st/stocks/us/biggest-losers\"\n",
    "htmlcontentUSTopLosers=requests.get(urlUSTopLosers).text\n",
    "soupUSTopLosers=BeautifulSoup(htmlcontentUSTopLosers, 'lxml')\n"
   ]
  },
  {
   "cell_type": "code",
   "execution_count": 77,
   "metadata": {},
   "outputs": [],
   "source": [
    "#Sector Trends Returns for US\n",
    "Components=[]\n",
    "ComValues_=[]\n",
    "SectorTrendClassComponents=soupSectorTrend.find_all(class_=\"sc-18tfppz-3 iypVNG\")\n",
    "SectorTrendClassValues=soupSectorTrend.find_all(class_=\"sc-18tfppz-4 cxkvhF\")\n",
    "# print(SectorTrendClass, \"\\n\")\n",
    "for values_ in SectorTrendClassComponents:\n",
    "    Components.append(values_.text)\n",
    "for values_ in SectorTrendClassValues:\n",
    "    ComValues_.append(values_.text)\n",
    "Sector_Trend_US_df = pd.DataFrame(zip(Components, ComValues_), columns=['Sector', 'Returns'])\n",
    "Sector_Trend_US_df.reset_index(inplace=True)\n"
   ]
  },
  {
   "cell_type": "code",
   "execution_count": 78,
   "metadata": {},
   "outputs": [],
   "source": [
    "#US Sector Top Gainers\n",
    "# soupUSTopGainers.findAll()\n",
    "companyNameClass    =   \"sc-1a2wa6p-6 bVIYlk\"\n",
    "lastPriceClass      =   \"sc-1a2wa6p-13 jUwA-DB\" #same as marketCapClass\n",
    "oneDayReturnClass   =   \"sc-ailqsn-0 kxiqdw\"\n",
    "oneYearReturnClass  =   \"sc-ailqsn-0 kxiqdw\"\n",
    "marketCapClass      =   \"sc-1a2wa6p-13 jUwA-DB\" #haslastprice, analystsTarget, valuation, growth, DivYield\n",
    "industryClass       =   \"sc-1a2wa6p-7 MkSwg\"\n",
    "\n",
    "\n"
   ]
  },
  {
   "cell_type": "code",
   "execution_count": 79,
   "metadata": {},
   "outputs": [],
   "source": [
    "tickerNamelist=[]\n",
    "companyNameslist=[]\n",
    "for elements_ in soupUSTopGainers.findAll(class_=companyNameClass):\n",
    "    tickerNamelist.append(elements_.find('b').text)\n",
    "    companyNameslist.append(elements_.find('span').text)\n",
    "\n",
    "industryList=[]\n",
    "for elements_ in soupUSTopGainers.findAll(class_=industryClass):\n",
    "    industryList.append(elements_.text)\n",
    "\n",
    "topGainers_df=pd.DataFrame(zip(tickerNamelist, companyNameslist, industryList), columns=['Ticker', 'CompanyName', 'Industry'])\n",
    "\n",
    "\n",
    "#############################################################################################################################################\n",
    "# This part still needs to be researched and need to find a solution on how to separate the value since they have all tags and classes same.\n",
    "#############################################################################################################################################\n",
    "# lastPricelist= []\n",
    "# for elements_ in soupUSTopGainers.findAll(class_=lastPriceClass):\n",
    "#     print(elements_['value'])\n",
    "    # lastPricelist.append(elements_.find('span').text)\n",
    "    # for subele in elements_.findAll(class_=\"sc-ugumnt-0 sc-rm1mlc-1 calUli ffyqjh\"):\n",
    "    #     if subele.text.split(\"$\")[0]=='US':\n",
    "    #         print(subele.text)\n",
    "# <td class=\"sc-1a2wa6p-13 jUwA-DB\" value=\"334.27\"><span class=\"sc-ugumnt-0 sc-rm1mlc-1 calUli ffyqjh\">US$334.27</span></td>\n",
    "# <td class=\"sc-1a2wa6p-13 jUwA-DB\" value=\"2451153349525\"><span class=\"sc-ugumnt-0 sc-rm1mlc-1 calUli ffyqjh\">US$2.5t</span></td>\n",
    "# <td class=\"sc-1a2wa6p-13 jUwA-DB\" value=\"389.52224\"><span class=\"sc-ugumnt-0 sc-rm1mlc-1 calUli ffyqjh\">US$389.52</span></td>\n",
    "# <td class=\"sc-1a2wa6p-13 jUwA-DB\" value=\"34.321625\"><span class=\"sc-ugumnt-0 sc-rm1mlc-1 calUli ffyqjh\"><span class=\"sc-1a2wa6p-9 CMUMF\" tabindex=\"0\">PE</span>34.3x</span></td>\n",
    "# <td class=\"sc-1a2wa6p-13 jUwA-DB\" value=\"0.119183\"><span class=\"sc-ugumnt-0 sc-rm1mlc-1 calUli ffyqjh\"><span class=\"sc-1a2wa6p-9 CMUMF\" tabindex=\"0\">E</span>11.9%</span></td>\n",
    "# <td class=\"sc-1a2wa6p-13 jUwA-DB\" value=\"0.008137\"><span class=\"sc-ugumnt-0 sc-rm1mlc-1 calUli ffyqjh\">0.8%</span></td>\n",
    "\n"
   ]
  },
  {
   "cell_type": "code",
   "execution_count": null,
   "metadata": {},
   "outputs": [],
   "source": []
  },
  {
   "cell_type": "code",
   "execution_count": 3,
   "metadata": {},
   "outputs": [],
   "source": [
    "# import pandas as pd\n",
    "# df= pd.DataFrame(data['top_gainers'])\n",
    "# # df.info()\n",
    "# # Sort the dataframe in descending order by Change Percentage\n",
    "# df['change_percentage'] = df['change_percentage'].str.rstrip(\"%\").astype(float)/100\n",
    "# df.sort_values(by=['change_percentage'], ascending=False, inplace=True)\n",
    "# print(df)"
   ]
  },
  {
   "cell_type": "code",
   "execution_count": 5,
   "metadata": {},
   "outputs": [],
   "source": [
    "# #Stock Gainers for US\n",
    "# StockGainersTab=soup.find_all(class_=\"sc-ugumnt-0 sc-rm1mlc-1 calUli ffyqjh\")\n",
    "#                                            #name:\"sc-1a2wa6p-10 chelhR\")\n",
    "#                                            #lastPrice: \"sc-1d9czn9-9 iCSHux\")\n",
    "#                                            #7D: \"c-1d9czn9-3 iNNVFU\")\n",
    "#                                            #1Y: \n",
    "#                                            #PE Valuation: \"sc-1a2wa6p-9 CMUMF\")\n",
    "#                                            #market: \n",
    "#                                            #'sc-ugumnt-0 sc-rm1mlc-1 calUli ffyqjh')\n",
    "# #sc-1a2wa6p-10 chelhR\n",
    "# stringVal=[]\n",
    "# compositveVal=[]\n",
    "# for values_ in StockGainersTab:\n",
    "#     for values_x in values_:\n",
    "#         stringVal.append(values_x.text)\n",
    "# for step in range(10,len(stringVal)+1,10):\n",
    "#     prev_step=step-10\n",
    "#     temp=stringVal[prev_step:step]  \n",
    "#     compositveVal.append(temp)\n",
    "\n",
    "# compositveVal\n",
    "# StockGainers=pd.DataFrame(columns=['Ticker', 'Company', 'LastPrice', '7D1', '7D2', '7D3', '1Y', 'PE', 'Valuation', 'Sector'], data=compositveVal)\n",
    "# # list1=['LLY ', 'Eli Lilly', 'US$573.23', '3.4%', '', '+US$17.1b', '81.7%', 'PE', '79.3x', 'Healthcare']"
   ]
  },
  {
   "cell_type": "code",
   "execution_count": 121,
   "metadata": {},
   "outputs": [],
   "source": []
  },
  {
   "cell_type": "code",
   "execution_count": null,
   "metadata": {},
   "outputs": [],
   "source": []
  }
 ],
 "metadata": {
  "kernelspec": {
   "display_name": "dev",
   "language": "python",
   "name": "python3"
  },
  "language_info": {
   "codemirror_mode": {
    "name": "ipython",
    "version": 3
   },
   "file_extension": ".py",
   "mimetype": "text/x-python",
   "name": "python",
   "nbconvert_exporter": "python",
   "pygments_lexer": "ipython3",
   "version": "3.10.6"
  },
  "orig_nbformat": 4
 },
 "nbformat": 4,
 "nbformat_minor": 2
}
